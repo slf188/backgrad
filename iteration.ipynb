{
 "cells": [
  {
   "cell_type": "code",
   "execution_count": 144,
   "metadata": {},
   "outputs": [],
   "source": [
    "class Scalar:\n",
    "    def __init__(self, data, label=None, op=\"\", children=None):\n",
    "        self.data = data\n",
    "        self.grad = 0.0\n",
    "        self.op = op\n",
    "        self.children = children if children is not None else []\n",
    "        self.label = label\n",
    "    \n",
    "    def __repr__(self):\n",
    "        return f\"Scalar({self.data}, gradient {self.grad})\"\n",
    "\n",
    "    def __add__(self, other):\n",
    "        if isinstance(other, Scalar):\n",
    "            return Scalar(self.data + other.data, op=\"+\", children=[self, other])\n",
    "        else:\n",
    "            return Scalar(self.data + other, op=\"+\", children=[self])\n",
    "        \n",
    "    def __radd__(self, other):\n",
    "        return self + other\n",
    "    \n",
    "    def __mul__(self, other):\n",
    "        if isinstance(other, Scalar):\n",
    "            return Scalar(self.data * other.data, op=\"*\", children=[self, other])\n",
    "        else:\n",
    "            return Scalar(self.data * other, op=\"*\", children=[self])\n",
    "        \n",
    "    def __rmul__(self, other):\n",
    "        return self * other\n",
    "    \n",
    "    def __sub__(self, other):\n",
    "        if isinstance(other, Scalar):\n",
    "            return Scalar(self.data - other.data, op=\"-\", children=[self, other])\n",
    "        else:\n",
    "            return Scalar(self.data - other, op=\"-\", children=[self])\n",
    "        \n",
    "    def __rsub__(self, other):\n",
    "        return Scalar(other) - self\n",
    "    \n",
    "    def __truediv__(self, other):\n",
    "        if isinstance(other, Scalar):\n",
    "            return Scalar(self.data / other.data, op=\"/\", children=[self, other])\n",
    "        else:\n",
    "            return Scalar(self.data / other, op=\"/\", children=[self])\n",
    "        \n",
    "    def __rtruediv__(self, other):\n",
    "        return Scalar(other) / self\n",
    "    \n",
    "    def __pow__(self, other):\n",
    "        if isinstance(other, Scalar):\n",
    "            return Scalar(self.data ** other.data, op=\"**\", children=[self, other])\n",
    "        else:\n",
    "            return Scalar(self.data ** other, op=\"**\", children=[self])\n",
    "        \n",
    "    def __rpow__(self, other):\n",
    "        return Scalar(other) ** self\n",
    "    \n",
    "    def backward(self):\n",
    "        # Topological ordering of all children in the graph\n",
    "        topo_order = []\n",
    "        visited = set()\n",
    "        \n",
    "        def build_topo_order(node):\n",
    "            if node not in visited:\n",
    "                visited.add(node)\n",
    "                for child in node.children:\n",
    "                    build_topo_order(child)\n",
    "                topo_order.append(node)\n",
    "        \n",
    "        build_topo_order(self)\n",
    "\n",
    "        # Initialize the gradient of the final output scalar\n",
    "        self.grad = 1.0\n",
    "        \n",
    "        # Backpropagate through the graph\n",
    "        for node in reversed(topo_order):\n",
    "            # Depending on the operation, calculate gradients\n",
    "            # sum\n",
    "            if node.op == \"+\":\n",
    "                for child in node.children:\n",
    "                    child.grad += 1.0 * node.grad  # gradient flows directly through addition\n",
    "            # substraction\n",
    "            elif node.op == \"-\":\n",
    "                node.children[0].grad += 1.0 * node.grad  # For left operand\n",
    "                node.children[1].grad += -1.0 * node.grad  # For right operand\n",
    "            # multiplication\n",
    "            elif node.op == \"*\":\n",
    "                node.children[0].grad += node.children[1].data * node.grad  # grad of first operand\n",
    "                node.children[1].grad += node.children[0].data * node.grad  # grad of second operand\n",
    "            # division\n",
    "            elif node.op == \"/\":\n",
    "                node.children[0].grad += (1 / node.children[1].data) * node.grad  # grad of numerator\n",
    "                node.children[1].grad += -(node.children[0].data / node.children[1].data ** 2) * node.grad  # grad of denominator\n",
    "            # power\n",
    "            elif node.op == \"**\":\n",
    "                base, exponent = node.children\n",
    "                base.grad += (exponent.data * (base.data ** (exponent.data - 1))) * node.grad  # grad w.r.t base\n",
    "                exponent.grad += (node.data * math.log(base.data)) * node.grad  # grad w.r.t exponent"
   ]
  },
  {
   "cell_type": "code",
   "execution_count": 145,
   "metadata": {},
   "outputs": [],
   "source": [
    "# create a graph with graphviz to visualize the computation graph\n",
    "from graphviz import Digraph"
   ]
  },
  {
   "cell_type": "code",
   "execution_count": 146,
   "metadata": {},
   "outputs": [],
   "source": [
    "def draw_graph(node):\n",
    "    def add_nodes_edges(node, dot=None):\n",
    "        if dot is None:\n",
    "            dot = Digraph()\n",
    "            dot.attr(rankdir='LR')  # Set the direction of the graph to left-to-right\n",
    "            dot.node(str(id(node)), label=f\"{{ {node.label} | data {node.data:.4f} | grad {node.grad:.4f} }}\", shape='record')\n",
    "        \n",
    "        if node.op:\n",
    "            op_node_id = str(id(node)) + node.op\n",
    "            dot.node(op_node_id, label=node.op, shape='diamond')\n",
    "            dot.edge(op_node_id, str(id(node)))\n",
    "        \n",
    "        for child in node.children:\n",
    "            dot.node(str(id(child)), label=f\"{{ {child.label} | data {child.data:.4f} | grad {child.grad:.4f} }}\", shape='record')\n",
    "            if node.op:\n",
    "                dot.edge(str(id(child)), op_node_id)\n",
    "            else:\n",
    "                dot.edge(str(id(child)), str(id(node)))\n",
    "            dot = add_nodes_edges(child, dot=dot)\n",
    "        \n",
    "        return dot\n",
    "\n",
    "    dot = add_nodes_edges(node)\n",
    "    return dot\n",
    "\n",
    "def restart_graph(node):\n",
    "    node.grad = 0.0\n",
    "    for child in node.children:\n",
    "        restart_graph(child)"
   ]
  },
  {
   "cell_type": "code",
   "execution_count": 166,
   "metadata": {},
   "outputs": [],
   "source": [
    "a = Scalar(2, label='a')\n",
    "b = Scalar(3, label='b')\n",
    "c = a + b; c.label='c'\n",
    "d = Scalar(2, label='d')\n",
    "e = c * d; e.label='e'\n",
    "f = Scalar(4, label='f')\n",
    "L = f + e; L.label='L'"
   ]
  },
  {
   "cell_type": "code",
   "execution_count": 167,
   "metadata": {},
   "outputs": [
    {
     "data": {
      "text/plain": [
       "Scalar(14, gradient 0.0)"
      ]
     },
     "execution_count": 167,
     "metadata": {},
     "output_type": "execute_result"
    }
   ],
   "source": [
    "L"
   ]
  },
  {
   "cell_type": "code",
   "execution_count": 164,
   "metadata": {},
   "outputs": [],
   "source": [
    "# restart the gradients\n",
    "def restart_graph(node):\n",
    "    node.grad = 0.0\n",
    "    for child in node.children:\n",
    "        restart_graph(child)\n",
    "\n",
    "restart_graph(L)"
   ]
  },
  {
   "cell_type": "code",
   "execution_count": 168,
   "metadata": {},
   "outputs": [
    {
     "name": "stdout",
     "output_type": "stream",
     "text": [
      "L | data 14.0000 | grad 0.0000 | op +\n",
      "  f | data 4.0000 | grad 0.0000 | op \n",
      "  e | data 10.0000 | grad 0.0000 | op *\n",
      "    c | data 5.0000 | grad 0.0000 | op +\n",
      "      a | data 2.0000 | grad 0.0000 | op \n",
      "      b | data 3.0000 | grad 0.0000 | op \n",
      "    d | data 2.0000 | grad 0.0000 | op \n"
     ]
    }
   ],
   "source": [
    "def print_graph(node, indent=0):\n",
    "    print(\"  \" * indent + f\"{node.label} | data {node.data:.4f} | grad {node.grad:.4f} | op {node.op}\")\n",
    "    for child in node.children:\n",
    "        print_graph(child, indent=indent+1)\n",
    "\n",
    "print_graph(L)"
   ]
  },
  {
   "cell_type": "code",
   "execution_count": 150,
   "metadata": {},
   "outputs": [],
   "source": [
    "L.backward()"
   ]
  }
 ],
 "metadata": {
  "kernelspec": {
   "display_name": "Python 3",
   "language": "python",
   "name": "python3"
  },
  "language_info": {
   "codemirror_mode": {
    "name": "ipython",
    "version": 3
   },
   "file_extension": ".py",
   "mimetype": "text/x-python",
   "name": "python",
   "nbconvert_exporter": "python",
   "pygments_lexer": "ipython3",
   "version": "3.9.6"
  }
 },
 "nbformat": 4,
 "nbformat_minor": 2
}
